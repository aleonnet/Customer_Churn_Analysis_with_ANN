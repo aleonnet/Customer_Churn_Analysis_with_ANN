{
 "cells": [
  {
   "cell_type": "markdown",
   "metadata": {},
   "source": [
    "## Will a customer leave the bank or stay? An Artificial Neural Networks model\n",
    "One of the goals of a bank is to expand business by increasing the number of customers. In fact, every business entity has similar goal. Whether a customer is likely stay or leave the bank is a very vital information for a bank from the perspective of business strategy. It is a bank's best interest to figure out in advance the probability of a customer's leaving the bank. If the bank knows in advance that a customer is going to leave, the bank can extend alternative offers for the customer to stay. The model developed in this analysis serves this purpose. Specifically, I build and validate an Artificial Neural Networks (ANN) model to predicts whether any individual customer will leave the bank or stay. Besides, the model also ranks all the customers of the bank, based on their probability of leaving. The data set used to build and validate the model includes information such as customer id, credit score, gender, age, tenure, balance, if the customer is active, has a credit card, etc. as well as a variable that indicates whether the customer left the bank or not.\n"
   ]
  },
  {
   "cell_type": "markdown",
   "metadata": {},
   "source": [
    "### Data importing and preprocessing"
   ]
  },
  {
   "cell_type": "code",
   "execution_count": 1,
   "metadata": {},
   "outputs": [],
   "source": [
    "# Importing the libraries\n",
    "import numpy as np\n",
    "import matplotlib.pyplot as plt\n",
    "import pandas as pd\n",
    "\n",
    "# Importing the dataset\n",
    "dataset = pd.read_csv('Churn_Modelling.csv')"
   ]
  },
  {
   "cell_type": "code",
   "execution_count": 2,
   "metadata": {},
   "outputs": [
    {
     "name": "stdout",
     "output_type": "stream",
     "text": [
      "   RowNumber  CustomerId   Surname  CreditScore Geography  Gender  Age  \\\n",
      "0          1    15634602  Hargrave          619    France  Female   42   \n",
      "1          2    15647311      Hill          608     Spain  Female   41   \n",
      "\n",
      "   Tenure   Balance  NumOfProducts  HasCrCard  IsActiveMember  \\\n",
      "0       2      0.00              1          1               1   \n",
      "1       1  83807.86              1          0               1   \n",
      "\n",
      "   EstimatedSalary  Exited  \n",
      "0        101348.88       1  \n",
      "1        112542.58       0  \n"
     ]
    }
   ],
   "source": [
    "print(dataset.head(2))"
   ]
  },
  {
   "cell_type": "markdown",
   "metadata": {},
   "source": [
    "The first three variables are not supposed to have any explanatory power in explaning the dependent variable. Therefore, I exclude these three variables from the dataset."
   ]
  },
  {
   "cell_type": "code",
   "execution_count": 3,
   "metadata": {},
   "outputs": [],
   "source": [
    "dataset=dataset.iloc[:, 3:]"
   ]
  },
  {
   "cell_type": "code",
   "execution_count": 4,
   "metadata": {},
   "outputs": [
    {
     "name": "stdout",
     "output_type": "stream",
     "text": [
      "   CreditScore Geography  Gender  Age  Tenure   Balance  NumOfProducts  \\\n",
      "0          619    France  Female   42       2      0.00              1   \n",
      "1          608     Spain  Female   41       1  83807.86              1   \n",
      "\n",
      "   HasCrCard  IsActiveMember  EstimatedSalary  Exited  \n",
      "0          1               1        101348.88       1  \n",
      "1          0               1        112542.58       0  \n"
     ]
    }
   ],
   "source": [
    "print(dataset.head(2))"
   ]
  },
  {
   "cell_type": "markdown",
   "metadata": {},
   "source": [
    "The dataset conatins two categorical variables: 'Geography' and 'Gender'. The following codes converts these categorical variables into numeric variables by creating dummies for each category.Then I exclude one dummy from each dummy variable sets to get rid of the dummy variable trap."
   ]
  },
  {
   "cell_type": "code",
   "execution_count": 5,
   "metadata": {},
   "outputs": [],
   "source": [
    "dummy_geo = pd.get_dummies(dataset[\"Geography\"], prefix=\"Geo\")\n",
    "dummy_sex = pd.get_dummies(dataset[\"Gender\"], prefix=\"Sex\")"
   ]
  },
  {
   "cell_type": "code",
   "execution_count": 6,
   "metadata": {},
   "outputs": [],
   "source": [
    "# Combine the dummy variables with the original dataset\n",
    "dataset = pd.concat([dummy_geo.iloc[:, [0,1]], dummy_sex.iloc[:, 0], dataset.iloc[:, [0, 3, 4, 5, 6, 7, 8, 9, 10]]], axis=1)"
   ]
  },
  {
   "cell_type": "code",
   "execution_count": 7,
   "metadata": {},
   "outputs": [
    {
     "name": "stdout",
     "output_type": "stream",
     "text": [
      "   Geo_France  Geo_Germany  Sex_Female  CreditScore  Age  Tenure   Balance  \\\n",
      "0           1            0           1          619   42       2      0.00   \n",
      "1           0            0           1          608   41       1  83807.86   \n",
      "\n",
      "   NumOfProducts  HasCrCard  IsActiveMember  EstimatedSalary  Exited  \n",
      "0              1          1               1        101348.88       1  \n",
      "1              1          0               1        112542.58       0  \n"
     ]
    }
   ],
   "source": [
    "print(dataset.head(2))"
   ]
  },
  {
   "cell_type": "code",
   "execution_count": 8,
   "metadata": {},
   "outputs": [],
   "source": [
    "# Seperate dependent variable and features\n",
    "X = dataset.iloc[:, 0:len(dataset.columns)-1].values\n",
    "y = dataset.iloc[:, len(dataset.columns)-1].values"
   ]
  },
  {
   "cell_type": "code",
   "execution_count": 9,
   "metadata": {},
   "outputs": [],
   "source": [
    "# Splitting the dataset into the Training set and Test set\n",
    "from sklearn.model_selection import train_test_split\n",
    "X_train, X_test, y_train, y_test = train_test_split(X, y, test_size = 0.2, random_state = 0)"
   ]
  },
  {
   "cell_type": "code",
   "execution_count": 10,
   "metadata": {},
   "outputs": [],
   "source": [
    "# Splitting the dataset into the Training set and Test set\n",
    "from sklearn.model_selection import train_test_split\n",
    "X_train, X_test, y_train, y_test = train_test_split(X, y, test_size = 0.2, random_state = 0)"
   ]
  },
  {
   "cell_type": "code",
   "execution_count": 11,
   "metadata": {},
   "outputs": [],
   "source": [
    "# Feature Scaling\n",
    "from sklearn.preprocessing import StandardScaler\n",
    "sc = StandardScaler()\n",
    "X_train = sc.fit_transform(X_train)\n",
    "X_test = sc.transform(X_test)"
   ]
  },
  {
   "cell_type": "code",
   "execution_count": 12,
   "metadata": {},
   "outputs": [
    {
     "name": "stderr",
     "output_type": "stream",
     "text": [
      "Using TensorFlow backend.\n"
     ]
    }
   ],
   "source": [
    "# Importing the Keras libraries and packages\n",
    "import keras\n",
    "from keras.models import Sequential\n",
    "from keras.layers import Dense"
   ]
  },
  {
   "cell_type": "code",
   "execution_count": 13,
   "metadata": {},
   "outputs": [
    {
     "name": "stdout",
     "output_type": "stream",
     "text": [
      "WARNING:tensorflow:From C:\\ProgramData\\Anaconda3\\lib\\site-packages\\tensorflow\\python\\framework\\op_def_library.py:263: colocate_with (from tensorflow.python.framework.ops) is deprecated and will be removed in a future version.\n",
      "Instructions for updating:\n",
      "Colocations handled automatically by placer.\n",
      "WARNING:tensorflow:From C:\\ProgramData\\Anaconda3\\lib\\site-packages\\tensorflow\\python\\ops\\math_ops.py:3066: to_int32 (from tensorflow.python.ops.math_ops) is deprecated and will be removed in a future version.\n",
      "Instructions for updating:\n",
      "Use tf.cast instead.\n",
      "Epoch 1/100\n",
      "8000/8000 [==============================] - 2s 207us/step - loss: 0.4868 - acc: 0.7959\n",
      "Epoch 2/100\n",
      "8000/8000 [==============================] - 1s 123us/step - loss: 0.4303 - acc: 0.7960\n",
      "Epoch 3/100\n",
      "8000/8000 [==============================] - 1s 137us/step - loss: 0.4264 - acc: 0.7960\n",
      "Epoch 4/100\n",
      "8000/8000 [==============================] - 1s 133us/step - loss: 0.4217 - acc: 0.8090\n",
      "Epoch 5/100\n",
      "8000/8000 [==============================] - 1s 126us/step - loss: 0.4191 - acc: 0.8222\n",
      "Epoch 6/100\n",
      "8000/8000 [==============================] - 1s 160us/step - loss: 0.4165 - acc: 0.8256\n",
      "Epoch 7/100\n",
      "8000/8000 [==============================] - 1s 131us/step - loss: 0.4149 - acc: 0.8304\n",
      "Epoch 8/100\n",
      "8000/8000 [==============================] - 1s 125us/step - loss: 0.4129 - acc: 0.8302\n",
      "Epoch 9/100\n",
      "8000/8000 [==============================] - 1s 131us/step - loss: 0.4117 - acc: 0.8324\n",
      "Epoch 10/100\n",
      "8000/8000 [==============================] - 1s 136us/step - loss: 0.4113 - acc: 0.8340\n",
      "Epoch 11/100\n",
      "8000/8000 [==============================] - 1s 125us/step - loss: 0.4100 - acc: 0.8319\n",
      "Epoch 12/100\n",
      "8000/8000 [==============================] - 1s 135us/step - loss: 0.4088 - acc: 0.8314\n",
      "Epoch 13/100\n",
      "8000/8000 [==============================] - 1s 136us/step - loss: 0.4084 - acc: 0.8332\n",
      "Epoch 14/100\n",
      "8000/8000 [==============================] - 1s 123us/step - loss: 0.4078 - acc: 0.8342\n",
      "Epoch 15/100\n",
      "8000/8000 [==============================] - 1s 135us/step - loss: 0.4067 - acc: 0.8335\n",
      "Epoch 16/100\n",
      "8000/8000 [==============================] - 1s 135us/step - loss: 0.4064 - acc: 0.8344\n",
      "Epoch 17/100\n",
      "8000/8000 [==============================] - 1s 124us/step - loss: 0.4052 - acc: 0.8339\n",
      "Epoch 18/100\n",
      "8000/8000 [==============================] - 1s 139us/step - loss: 0.4054 - acc: 0.8336\n",
      "Epoch 19/100\n",
      "8000/8000 [==============================] - 1s 137us/step - loss: 0.4054 - acc: 0.8341\n",
      "Epoch 20/100\n",
      "8000/8000 [==============================] - 1s 127us/step - loss: 0.4048 - acc: 0.8340\n",
      "Epoch 21/100\n",
      "8000/8000 [==============================] - 1s 156us/step - loss: 0.4048 - acc: 0.8342\n",
      "Epoch 22/100\n",
      "8000/8000 [==============================] - 1s 130us/step - loss: 0.4043 - acc: 0.8329\n",
      "Epoch 23/100\n",
      "8000/8000 [==============================] - 1s 132us/step - loss: 0.4040 - acc: 0.8340\n",
      "Epoch 24/100\n",
      "8000/8000 [==============================] - 1s 130us/step - loss: 0.4036 - acc: 0.8349\n",
      "Epoch 25/100\n",
      "8000/8000 [==============================] - 1s 136us/step - loss: 0.4033 - acc: 0.8352\n",
      "Epoch 26/100\n",
      "8000/8000 [==============================] - 1s 126us/step - loss: 0.4031 - acc: 0.8332\n",
      "Epoch 27/100\n",
      "8000/8000 [==============================] - 1s 141us/step - loss: 0.4034 - acc: 0.8344\n",
      "Epoch 28/100\n",
      "8000/8000 [==============================] - 1s 139us/step - loss: 0.4029 - acc: 0.8337\n",
      "Epoch 29/100\n",
      "8000/8000 [==============================] - 1s 125us/step - loss: 0.4030 - acc: 0.8342\n",
      "Epoch 30/100\n",
      "8000/8000 [==============================] - 1s 137us/step - loss: 0.4023 - acc: 0.8335\n",
      "Epoch 31/100\n",
      "8000/8000 [==============================] - 1s 125us/step - loss: 0.4023 - acc: 0.8347\n",
      "Epoch 32/100\n",
      "8000/8000 [==============================] - 1s 140us/step - loss: 0.4027 - acc: 0.8351\n",
      "Epoch 33/100\n",
      "8000/8000 [==============================] - 1s 136us/step - loss: 0.4022 - acc: 0.8326\n",
      "Epoch 34/100\n",
      "8000/8000 [==============================] - 1s 130us/step - loss: 0.4021 - acc: 0.8312\n",
      "Epoch 35/100\n",
      "8000/8000 [==============================] - 1s 140us/step - loss: 0.4018 - acc: 0.8334\n",
      "Epoch 36/100\n",
      "8000/8000 [==============================] - 1s 159us/step - loss: 0.4020 - acc: 0.8351\n",
      "Epoch 37/100\n",
      "8000/8000 [==============================] - 1s 143us/step - loss: 0.4021 - acc: 0.8344\n",
      "Epoch 38/100\n",
      "8000/8000 [==============================] - 1s 130us/step - loss: 0.4015 - acc: 0.8335\n",
      "Epoch 39/100\n",
      "8000/8000 [==============================] - 1s 139us/step - loss: 0.4015 - acc: 0.8347\n",
      "Epoch 40/100\n",
      "8000/8000 [==============================] - 1s 126us/step - loss: 0.4013 - acc: 0.8337\n",
      "Epoch 41/100\n",
      "8000/8000 [==============================] - 1s 159us/step - loss: 0.4012 - acc: 0.8325\n",
      "Epoch 42/100\n",
      "8000/8000 [==============================] - 1s 138us/step - loss: 0.4013 - acc: 0.8327\n",
      "Epoch 43/100\n",
      "8000/8000 [==============================] - 1s 133us/step - loss: 0.4012 - acc: 0.8335\n",
      "Epoch 44/100\n",
      "8000/8000 [==============================] - 1s 134us/step - loss: 0.4013 - acc: 0.8346\n",
      "Epoch 45/100\n",
      "8000/8000 [==============================] - 1s 138us/step - loss: 0.4012 - acc: 0.8325\n",
      "Epoch 46/100\n",
      "8000/8000 [==============================] - 1s 135us/step - loss: 0.4010 - acc: 0.8330\n",
      "Epoch 47/100\n",
      "8000/8000 [==============================] - 1s 151us/step - loss: 0.4010 - acc: 0.8347\n",
      "Epoch 48/100\n",
      "8000/8000 [==============================] - 1s 145us/step - loss: 0.4009 - acc: 0.8330\n",
      "Epoch 49/100\n",
      "8000/8000 [==============================] - 1s 147us/step - loss: 0.4010 - acc: 0.8329\n",
      "Epoch 50/100\n",
      "8000/8000 [==============================] - 1s 152us/step - loss: 0.4003 - acc: 0.8324\n",
      "Epoch 51/100\n",
      "8000/8000 [==============================] - 1s 143us/step - loss: 0.4009 - acc: 0.8334\n",
      "Epoch 52/100\n",
      "8000/8000 [==============================] - 1s 138us/step - loss: 0.4008 - acc: 0.8341\n",
      "Epoch 53/100\n",
      "8000/8000 [==============================] - 1s 141us/step - loss: 0.4010 - acc: 0.8341\n",
      "Epoch 54/100\n",
      "8000/8000 [==============================] - 1s 142us/step - loss: 0.4004 - acc: 0.8346\n",
      "Epoch 55/100\n",
      "8000/8000 [==============================] - 1s 138us/step - loss: 0.4009 - acc: 0.8341\n",
      "Epoch 56/100\n",
      "8000/8000 [==============================] - 1s 137us/step - loss: 0.4003 - acc: 0.8367\n",
      "Epoch 57/100\n",
      "8000/8000 [==============================] - 1s 147us/step - loss: 0.4004 - acc: 0.8339\n",
      "Epoch 58/100\n",
      "8000/8000 [==============================] - 1s 135us/step - loss: 0.4008 - acc: 0.8340\n",
      "Epoch 59/100\n",
      "8000/8000 [==============================] - 1s 134us/step - loss: 0.4009 - acc: 0.8342\n",
      "Epoch 60/100\n",
      "8000/8000 [==============================] - 1s 131us/step - loss: 0.4007 - acc: 0.8332\n",
      "Epoch 61/100\n",
      "8000/8000 [==============================] - 1s 139us/step - loss: 0.4004 - acc: 0.8360\n",
      "Epoch 62/100\n",
      "8000/8000 [==============================] - 1s 140us/step - loss: 0.4002 - acc: 0.8346\n",
      "Epoch 63/100\n",
      "8000/8000 [==============================] - 1s 140us/step - loss: 0.3999 - acc: 0.8337\n",
      "Epoch 64/100\n",
      "8000/8000 [==============================] - 1s 185us/step - loss: 0.3999 - acc: 0.8347\n",
      "Epoch 65/100\n",
      "8000/8000 [==============================] - 1s 145us/step - loss: 0.4002 - acc: 0.8342\n",
      "Epoch 66/100\n",
      "8000/8000 [==============================] - 1s 132us/step - loss: 0.4001 - acc: 0.8339\n",
      "Epoch 67/100\n",
      "8000/8000 [==============================] - 1s 173us/step - loss: 0.3998 - acc: 0.8339\n",
      "Epoch 68/100\n",
      "8000/8000 [==============================] - 1s 148us/step - loss: 0.3993 - acc: 0.8336\n",
      "Epoch 69/100\n",
      "8000/8000 [==============================] - 1s 130us/step - loss: 0.3997 - acc: 0.8332\n",
      "Epoch 70/100\n",
      "8000/8000 [==============================] - 1s 153us/step - loss: 0.3999 - acc: 0.8339\n",
      "Epoch 71/100\n",
      "8000/8000 [==============================] - 1s 139us/step - loss: 0.3999 - acc: 0.8339\n",
      "Epoch 72/100\n",
      "8000/8000 [==============================] - 1s 171us/step - loss: 0.4005 - acc: 0.8351\n",
      "Epoch 73/100\n",
      "8000/8000 [==============================] - 1s 140us/step - loss: 0.4005 - acc: 0.8340\n",
      "Epoch 74/100\n",
      "8000/8000 [==============================] - 1s 142us/step - loss: 0.3999 - acc: 0.8340\n",
      "Epoch 75/100\n",
      "8000/8000 [==============================] - 1s 160us/step - loss: 0.4001 - acc: 0.8336\n",
      "Epoch 76/100\n",
      "8000/8000 [==============================] - 1s 139us/step - loss: 0.4003 - acc: 0.8334\n",
      "Epoch 77/100\n",
      "8000/8000 [==============================] - 1s 157us/step - loss: 0.3999 - acc: 0.8369\n",
      "Epoch 78/100\n",
      "8000/8000 [==============================] - 1s 139us/step - loss: 0.4000 - acc: 0.8354\n",
      "Epoch 79/100\n",
      "8000/8000 [==============================] - 1s 133us/step - loss: 0.3996 - acc: 0.8322\n",
      "Epoch 80/100\n",
      "8000/8000 [==============================] - 1s 134us/step - loss: 0.3999 - acc: 0.8344\n",
      "Epoch 81/100\n",
      "8000/8000 [==============================] - 1s 146us/step - loss: 0.3993 - acc: 0.8332\n",
      "Epoch 82/100\n",
      "8000/8000 [==============================] - 1s 136us/step - loss: 0.3999 - acc: 0.8344\n",
      "Epoch 83/100\n",
      "8000/8000 [==============================] - 1s 135us/step - loss: 0.3998 - acc: 0.8356\n",
      "Epoch 84/100\n",
      "8000/8000 [==============================] - 1s 125us/step - loss: 0.4000 - acc: 0.8346\n",
      "Epoch 85/100\n",
      "8000/8000 [==============================] - 1s 143us/step - loss: 0.3997 - acc: 0.8332\n",
      "Epoch 86/100\n",
      "8000/8000 [==============================] - 1s 132us/step - loss: 0.3999 - acc: 0.8357\n",
      "Epoch 87/100\n",
      "8000/8000 [==============================] - 1s 138us/step - loss: 0.3997 - acc: 0.8349\n",
      "Epoch 88/100\n",
      "8000/8000 [==============================] - 1s 129us/step - loss: 0.3998 - acc: 0.8349\n",
      "Epoch 89/100\n",
      "8000/8000 [==============================] - 1s 138us/step - loss: 0.3998 - acc: 0.8359\n",
      "Epoch 90/100\n",
      "8000/8000 [==============================] - 1s 126us/step - loss: 0.4000 - acc: 0.8327\n",
      "Epoch 91/100\n",
      "8000/8000 [==============================] - 1s 138us/step - loss: 0.3996 - acc: 0.8336\n",
      "Epoch 92/100\n",
      "8000/8000 [==============================] - 1s 168us/step - loss: 0.4000 - acc: 0.8345\n",
      "Epoch 93/100\n",
      "8000/8000 [==============================] - 1s 132us/step - loss: 0.4000 - acc: 0.8324\n",
      "Epoch 94/100\n",
      "8000/8000 [==============================] - 1s 131us/step - loss: 0.3993 - acc: 0.8354\n",
      "Epoch 95/100\n",
      "8000/8000 [==============================] - 1s 128us/step - loss: 0.3997 - acc: 0.8342\n",
      "Epoch 96/100\n",
      "8000/8000 [==============================] - 1s 135us/step - loss: 0.3997 - acc: 0.8357\n",
      "Epoch 97/100\n",
      "8000/8000 [==============================] - 1s 134us/step - loss: 0.3999 - acc: 0.8354\n",
      "Epoch 98/100\n",
      "8000/8000 [==============================] - 1s 142us/step - loss: 0.3995 - acc: 0.8360\n",
      "Epoch 99/100\n",
      "8000/8000 [==============================] - 1s 146us/step - loss: 0.3996 - acc: 0.8351\n",
      "Epoch 100/100\n",
      "8000/8000 [==============================] - 1s 141us/step - loss: 0.3993 - acc: 0.8330\n"
     ]
    },
    {
     "data": {
      "text/plain": [
       "<keras.callbacks.History at 0x215fb72cf28>"
      ]
     },
     "execution_count": 13,
     "metadata": {},
     "output_type": "execute_result"
    }
   ],
   "source": [
    "# Initialising the ANN\n",
    "classifier = Sequential()\n",
    "# Adding the input layer and the first hidden layer\n",
    "classifier.add(Dense(units = 6, kernel_initializer = 'uniform', activation = 'relu', input_dim = 11))\n",
    "\n",
    "# Adding the second hidden layer\n",
    "classifier.add(Dense(units = 6, kernel_initializer = 'uniform', activation = 'relu'))\n",
    "\n",
    "# Adding the output layer\n",
    "classifier.add(Dense(units = 1, kernel_initializer = 'uniform', activation = 'sigmoid'))\n",
    "\n",
    "# Compiling the ANN\n",
    "classifier.compile(optimizer = 'adam', loss = 'binary_crossentropy', metrics = ['accuracy'])\n",
    "\n",
    "# Fitting the ANN to the Training set\n",
    "classifier.fit(X_train, y_train, batch_size = 10, epochs = 100)"
   ]
  },
  {
   "cell_type": "markdown",
   "metadata": {},
   "source": [
    "### Making predictions and evaluating the model"
   ]
  },
  {
   "cell_type": "code",
   "execution_count": 14,
   "metadata": {},
   "outputs": [
    {
     "name": "stdout",
     "output_type": "stream",
     "text": [
      "[[1531   64]\n",
      " [ 253  152]]\n"
     ]
    }
   ],
   "source": [
    "# Predicting the Test set results\n",
    "y_pred = classifier.predict(X_test)\n",
    "y_pred = (y_pred > 0.5)\n",
    "\n",
    "# Making the Confusion Matrix\n",
    "from sklearn.metrics import confusion_matrix\n",
    "cm = confusion_matrix(y_test, y_pred)\n",
    "print(cm)"
   ]
  },
  {
   "cell_type": "code",
   "execution_count": 15,
   "metadata": {},
   "outputs": [
    {
     "name": "stdout",
     "output_type": "stream",
     "text": [
      "Out of sample accuracy is 0.8415\n"
     ]
    }
   ],
   "source": [
    "# Find the accuracy rate\n",
    "from sklearn.metrics import accuracy_score\n",
    "print(\"Out of sample accuracy is\", accuracy_score(y_test, y_pred, normalize=True))"
   ]
  },
  {
   "cell_type": "markdown",
   "metadata": {},
   "source": [
    "Using Artificial Neural Networks model with two hidden layer and without any parameter tuning, the out of sample accuracy for the fitted model is 84.2%. This accuracy is fairly large to validate the model and implement to identify those customers who are more likely to leave the bank. Based on the predicted classification for each customer, the bank can take actions to increase the likihood of retention."
   ]
  },
  {
   "cell_type": "code",
   "execution_count": null,
   "metadata": {},
   "outputs": [],
   "source": []
  }
 ],
 "metadata": {
  "kernelspec": {
   "display_name": "Python 3",
   "language": "python",
   "name": "python3"
  },
  "language_info": {
   "codemirror_mode": {
    "name": "ipython",
    "version": 3
   },
   "file_extension": ".py",
   "mimetype": "text/x-python",
   "name": "python",
   "nbconvert_exporter": "python",
   "pygments_lexer": "ipython3",
   "version": "3.7.1"
  }
 },
 "nbformat": 4,
 "nbformat_minor": 2
}
